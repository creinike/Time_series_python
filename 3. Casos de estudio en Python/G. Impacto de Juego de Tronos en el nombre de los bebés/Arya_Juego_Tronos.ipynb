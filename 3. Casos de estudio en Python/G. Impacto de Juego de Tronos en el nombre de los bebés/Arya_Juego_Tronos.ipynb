{
  "nbformat": 4,
  "nbformat_minor": 0,
  "metadata": {
    "colab": {
      "name": "Arya_Juego_Tronos.ipynb",
      "provenance": []
    },
    "kernelspec": {
      "name": "python3",
      "display_name": "Python 3"
    }
  },
  "cells": [
    {
      "cell_type": "code",
      "metadata": {
        "colab": {
          "base_uri": "https://localhost:8080/"
        },
        "id": "_m13yTmQyfN4",
        "outputId": "26a7e0c8-0570-4ed3-b7e8-ce2d891fcc0b"
      },
      "source": [
        "!pip install pycausalimpact"
      ],
      "execution_count": 1,
      "outputs": [
        {
          "output_type": "stream",
          "text": [
            "Requirement already satisfied: pycausalimpact in /usr/local/lib/python3.6/dist-packages (0.1.1)\n",
            "Requirement already satisfied: scipy in /usr/local/lib/python3.6/dist-packages (from pycausalimpact) (1.4.1)\n",
            "Requirement already satisfied: matplotlib>=2.2.3 in /usr/local/lib/python3.6/dist-packages (from pycausalimpact) (3.2.2)\n",
            "Requirement already satisfied: numpy in /usr/local/lib/python3.6/dist-packages (from pycausalimpact) (1.19.5)\n",
            "Requirement already satisfied: statsmodels>=0.11.0 in /usr/local/lib/python3.6/dist-packages (from pycausalimpact) (0.12.1)\n",
            "Requirement already satisfied: jinja2>=2.10 in /usr/local/lib/python3.6/dist-packages (from pycausalimpact) (2.11.2)\n",
            "Requirement already satisfied: cycler>=0.10 in /usr/local/lib/python3.6/dist-packages (from matplotlib>=2.2.3->pycausalimpact) (0.10.0)\n",
            "Requirement already satisfied: pyparsing!=2.0.4,!=2.1.2,!=2.1.6,>=2.0.1 in /usr/local/lib/python3.6/dist-packages (from matplotlib>=2.2.3->pycausalimpact) (2.4.7)\n",
            "Requirement already satisfied: kiwisolver>=1.0.1 in /usr/local/lib/python3.6/dist-packages (from matplotlib>=2.2.3->pycausalimpact) (1.3.1)\n",
            "Requirement already satisfied: python-dateutil>=2.1 in /usr/local/lib/python3.6/dist-packages (from matplotlib>=2.2.3->pycausalimpact) (2.8.1)\n",
            "Requirement already satisfied: patsy>=0.5 in /usr/local/lib/python3.6/dist-packages (from statsmodels>=0.11.0->pycausalimpact) (0.5.1)\n",
            "Requirement already satisfied: pandas>=0.21 in /usr/local/lib/python3.6/dist-packages (from statsmodels>=0.11.0->pycausalimpact) (1.1.5)\n",
            "Requirement already satisfied: MarkupSafe>=0.23 in /usr/local/lib/python3.6/dist-packages (from jinja2>=2.10->pycausalimpact) (1.1.1)\n",
            "Requirement already satisfied: six in /usr/local/lib/python3.6/dist-packages (from cycler>=0.10->matplotlib>=2.2.3->pycausalimpact) (1.15.0)\n",
            "Requirement already satisfied: pytz>=2017.2 in /usr/local/lib/python3.6/dist-packages (from pandas>=0.21->statsmodels>=0.11.0->pycausalimpact) (2018.9)\n"
          ],
          "name": "stdout"
        }
      ]
    },
    {
      "cell_type": "code",
      "metadata": {
        "id": "jg4898dczRs8"
      },
      "source": [
        "import matplotlib.pyplot as plt\n",
        "import numpy as np\n",
        "import pandas as pd\n",
        "import seaborn as sns\n",
        "from causalimpact import CausalImpact"
      ],
      "execution_count": 2,
      "outputs": []
    },
    {
      "cell_type": "markdown",
      "metadata": {
        "id": "RQA0KjFxy-Oz"
      },
      "source": [
        "#### Obteniendo los datos\n"
      ]
    },
    {
      "cell_type": "code",
      "metadata": {
        "id": "GSOs92u-zA1Z"
      },
      "source": [
        "import requests\n",
        "\n",
        "url = \"https://www.ssa.gov/oact/babynames/names.zip\"\n",
        "\n",
        "with requests.get(url) as response:\n",
        "\n",
        "    with open(\"names.zip\", \"wb\") as temp_file:\n",
        "        temp_file.write(response.content)"
      ],
      "execution_count": 3,
      "outputs": []
    },
    {
      "cell_type": "code",
      "metadata": {
        "id": "2Fl_8_BdzCuT"
      },
      "source": [
        "import csv\n",
        "from zipfile import ZipFile\n",
        "\n",
        "# This list will hold all our data. We initialize it with the header row.\n",
        "data_list = [[\"year\", \"name\", \"gender\", \"count\"]]\n",
        "\n",
        "# We first read the zip file using a zipfile.ZipFile object.\n",
        "with ZipFile(\"names.zip\") as temp_zip:\n",
        "\n",
        "    # Then we read the file list.\n",
        "    for file_name in temp_zip.namelist():\n",
        "\n",
        "        # We will only process .txt files.\n",
        "        if \".txt\" in file_name:\n",
        "\n",
        "            # Now we read the current file from the zip file.\n",
        "            with temp_zip.open(file_name) as temp_file:\n",
        "\n",
        "                # The file is opened as binary, we decode it using utf-8 so it can be manipulated as a string.\n",
        "                for line in temp_file.read().decode(\"utf-8\").splitlines():\n",
        "\n",
        "                    # We prepare our desired data fields and add them to the data list.\n",
        "                    line_chunks = line.split(\",\")\n",
        "                    year = file_name[3:7]\n",
        "                    name = line_chunks[0]\n",
        "                    gender = line_chunks[1]\n",
        "                    count = line_chunks[2]\n",
        "\n",
        "                    data_list.append([year, name, gender, count])\n",
        "\n",
        "# We save the data list into a csv file.\n",
        "csv.writer(open(\"data.csv\", \"w\", newline=\"\",\n",
        "                encoding=\"utf-8\")).writerows(data_list)"
      ],
      "execution_count": 4,
      "outputs": []
    },
    {
      "cell_type": "code",
      "metadata": {
        "id": "FBc7AMWgzM-m"
      },
      "source": [
        "df = pd.read_csv(\"data.csv\")"
      ],
      "execution_count": 5,
      "outputs": []
    },
    {
      "cell_type": "code",
      "metadata": {
        "colab": {
          "base_uri": "https://localhost:8080/",
          "height": 138
        },
        "id": "QKuCSHUBzbbN",
        "outputId": "e345dd0a-1fa6-4fb7-d37b-7d1b8f5498fa"
      },
      "source": [
        "df.head(3)"
      ],
      "execution_count": 6,
      "outputs": [
        {
          "output_type": "execute_result",
          "data": {
            "text/html": [
              "<div>\n",
              "<style scoped>\n",
              "    .dataframe tbody tr th:only-of-type {\n",
              "        vertical-align: middle;\n",
              "    }\n",
              "\n",
              "    .dataframe tbody tr th {\n",
              "        vertical-align: top;\n",
              "    }\n",
              "\n",
              "    .dataframe thead th {\n",
              "        text-align: right;\n",
              "    }\n",
              "</style>\n",
              "<table border=\"1\" class=\"dataframe\">\n",
              "  <thead>\n",
              "    <tr style=\"text-align: right;\">\n",
              "      <th></th>\n",
              "      <th>year</th>\n",
              "      <th>name</th>\n",
              "      <th>gender</th>\n",
              "      <th>count</th>\n",
              "    </tr>\n",
              "  </thead>\n",
              "  <tbody>\n",
              "    <tr>\n",
              "      <th>0</th>\n",
              "      <td>1880</td>\n",
              "      <td>Mary</td>\n",
              "      <td>F</td>\n",
              "      <td>7065</td>\n",
              "    </tr>\n",
              "    <tr>\n",
              "      <th>1</th>\n",
              "      <td>1880</td>\n",
              "      <td>Anna</td>\n",
              "      <td>F</td>\n",
              "      <td>2604</td>\n",
              "    </tr>\n",
              "    <tr>\n",
              "      <th>2</th>\n",
              "      <td>1880</td>\n",
              "      <td>Emma</td>\n",
              "      <td>F</td>\n",
              "      <td>2003</td>\n",
              "    </tr>\n",
              "  </tbody>\n",
              "</table>\n",
              "</div>"
            ],
            "text/plain": [
              "   year  name gender  count\n",
              "0  1880  Mary      F   7065\n",
              "1  1880  Anna      F   2604\n",
              "2  1880  Emma      F   2003"
            ]
          },
          "metadata": {
            "tags": []
          },
          "execution_count": 6
        }
      ]
    },
    {
      "cell_type": "code",
      "metadata": {
        "colab": {
          "base_uri": "https://localhost:8080/",
          "height": 888
        },
        "id": "yWW7vyMP0XcA",
        "outputId": "aa430b50-3a70-435b-da12-917791cd54e9"
      },
      "source": [
        "aryaF=df[(df.name==\"Arya\")&(df.gender==\"F\")]\n",
        "aryaF"
      ],
      "execution_count": 7,
      "outputs": [
        {
          "output_type": "execute_result",
          "data": {
            "text/html": [
              "<div>\n",
              "<style scoped>\n",
              "    .dataframe tbody tr th:only-of-type {\n",
              "        vertical-align: middle;\n",
              "    }\n",
              "\n",
              "    .dataframe tbody tr th {\n",
              "        vertical-align: top;\n",
              "    }\n",
              "\n",
              "    .dataframe thead th {\n",
              "        text-align: right;\n",
              "    }\n",
              "</style>\n",
              "<table border=\"1\" class=\"dataframe\">\n",
              "  <thead>\n",
              "    <tr style=\"text-align: right;\">\n",
              "      <th></th>\n",
              "      <th>year</th>\n",
              "      <th>name</th>\n",
              "      <th>gender</th>\n",
              "      <th>count</th>\n",
              "    </tr>\n",
              "  </thead>\n",
              "  <tbody>\n",
              "    <tr>\n",
              "      <th>992582</th>\n",
              "      <td>1986</td>\n",
              "      <td>Arya</td>\n",
              "      <td>F</td>\n",
              "      <td>5</td>\n",
              "    </tr>\n",
              "    <tr>\n",
              "      <th>1035574</th>\n",
              "      <td>1988</td>\n",
              "      <td>Arya</td>\n",
              "      <td>F</td>\n",
              "      <td>5</td>\n",
              "    </tr>\n",
              "    <tr>\n",
              "      <th>1081278</th>\n",
              "      <td>1990</td>\n",
              "      <td>Arya</td>\n",
              "      <td>F</td>\n",
              "      <td>6</td>\n",
              "    </tr>\n",
              "    <tr>\n",
              "      <th>1130172</th>\n",
              "      <td>1992</td>\n",
              "      <td>Arya</td>\n",
              "      <td>F</td>\n",
              "      <td>7</td>\n",
              "    </tr>\n",
              "    <tr>\n",
              "      <th>1230690</th>\n",
              "      <td>1996</td>\n",
              "      <td>Arya</td>\n",
              "      <td>F</td>\n",
              "      <td>11</td>\n",
              "    </tr>\n",
              "    <tr>\n",
              "      <th>1256370</th>\n",
              "      <td>1997</td>\n",
              "      <td>Arya</td>\n",
              "      <td>F</td>\n",
              "      <td>13</td>\n",
              "    </tr>\n",
              "    <tr>\n",
              "      <th>1280833</th>\n",
              "      <td>1998</td>\n",
              "      <td>Arya</td>\n",
              "      <td>F</td>\n",
              "      <td>25</td>\n",
              "    </tr>\n",
              "    <tr>\n",
              "      <th>1310575</th>\n",
              "      <td>1999</td>\n",
              "      <td>Arya</td>\n",
              "      <td>F</td>\n",
              "      <td>16</td>\n",
              "    </tr>\n",
              "    <tr>\n",
              "      <th>1336653</th>\n",
              "      <td>2000</td>\n",
              "      <td>Arya</td>\n",
              "      <td>F</td>\n",
              "      <td>34</td>\n",
              "    </tr>\n",
              "    <tr>\n",
              "      <th>1366325</th>\n",
              "      <td>2001</td>\n",
              "      <td>Arya</td>\n",
              "      <td>F</td>\n",
              "      <td>36</td>\n",
              "    </tr>\n",
              "    <tr>\n",
              "      <th>1395746</th>\n",
              "      <td>2002</td>\n",
              "      <td>Arya</td>\n",
              "      <td>F</td>\n",
              "      <td>54</td>\n",
              "    </tr>\n",
              "    <tr>\n",
              "      <th>1425875</th>\n",
              "      <td>2003</td>\n",
              "      <td>Arya</td>\n",
              "      <td>F</td>\n",
              "      <td>71</td>\n",
              "    </tr>\n",
              "    <tr>\n",
              "      <th>1456336</th>\n",
              "      <td>2004</td>\n",
              "      <td>Arya</td>\n",
              "      <td>F</td>\n",
              "      <td>120</td>\n",
              "    </tr>\n",
              "    <tr>\n",
              "      <th>1488508</th>\n",
              "      <td>2005</td>\n",
              "      <td>Arya</td>\n",
              "      <td>F</td>\n",
              "      <td>113</td>\n",
              "    </tr>\n",
              "    <tr>\n",
              "      <th>1520740</th>\n",
              "      <td>2006</td>\n",
              "      <td>Arya</td>\n",
              "      <td>F</td>\n",
              "      <td>159</td>\n",
              "    </tr>\n",
              "    <tr>\n",
              "      <th>1554652</th>\n",
              "      <td>2007</td>\n",
              "      <td>Arya</td>\n",
              "      <td>F</td>\n",
              "      <td>200</td>\n",
              "    </tr>\n",
              "    <tr>\n",
              "      <th>1589605</th>\n",
              "      <td>2008</td>\n",
              "      <td>Arya</td>\n",
              "      <td>F</td>\n",
              "      <td>205</td>\n",
              "    </tr>\n",
              "    <tr>\n",
              "      <th>1624535</th>\n",
              "      <td>2009</td>\n",
              "      <td>Arya</td>\n",
              "      <td>F</td>\n",
              "      <td>237</td>\n",
              "    </tr>\n",
              "    <tr>\n",
              "      <th>1659115</th>\n",
              "      <td>2010</td>\n",
              "      <td>Arya</td>\n",
              "      <td>F</td>\n",
              "      <td>273</td>\n",
              "    </tr>\n",
              "    <tr>\n",
              "      <th>1692969</th>\n",
              "      <td>2011</td>\n",
              "      <td>Arya</td>\n",
              "      <td>F</td>\n",
              "      <td>387</td>\n",
              "    </tr>\n",
              "    <tr>\n",
              "      <th>1726583</th>\n",
              "      <td>2012</td>\n",
              "      <td>Arya</td>\n",
              "      <td>F</td>\n",
              "      <td>759</td>\n",
              "    </tr>\n",
              "    <tr>\n",
              "      <th>1760205</th>\n",
              "      <td>2013</td>\n",
              "      <td>Arya</td>\n",
              "      <td>F</td>\n",
              "      <td>1138</td>\n",
              "    </tr>\n",
              "    <tr>\n",
              "      <th>1793439</th>\n",
              "      <td>2014</td>\n",
              "      <td>Arya</td>\n",
              "      <td>F</td>\n",
              "      <td>1556</td>\n",
              "    </tr>\n",
              "    <tr>\n",
              "      <th>1826689</th>\n",
              "      <td>2015</td>\n",
              "      <td>Arya</td>\n",
              "      <td>F</td>\n",
              "      <td>1644</td>\n",
              "    </tr>\n",
              "    <tr>\n",
              "      <th>1859796</th>\n",
              "      <td>2016</td>\n",
              "      <td>Arya</td>\n",
              "      <td>F</td>\n",
              "      <td>1897</td>\n",
              "    </tr>\n",
              "    <tr>\n",
              "      <th>1892790</th>\n",
              "      <td>2017</td>\n",
              "      <td>Arya</td>\n",
              "      <td>F</td>\n",
              "      <td>2166</td>\n",
              "    </tr>\n",
              "    <tr>\n",
              "      <th>1925403</th>\n",
              "      <td>2018</td>\n",
              "      <td>Arya</td>\n",
              "      <td>F</td>\n",
              "      <td>2551</td>\n",
              "    </tr>\n",
              "    <tr>\n",
              "      <th>1957538</th>\n",
              "      <td>2019</td>\n",
              "      <td>Arya</td>\n",
              "      <td>F</td>\n",
              "      <td>3043</td>\n",
              "    </tr>\n",
              "  </tbody>\n",
              "</table>\n",
              "</div>"
            ],
            "text/plain": [
              "         year  name gender  count\n",
              "992582   1986  Arya      F      5\n",
              "1035574  1988  Arya      F      5\n",
              "1081278  1990  Arya      F      6\n",
              "1130172  1992  Arya      F      7\n",
              "1230690  1996  Arya      F     11\n",
              "1256370  1997  Arya      F     13\n",
              "1280833  1998  Arya      F     25\n",
              "1310575  1999  Arya      F     16\n",
              "1336653  2000  Arya      F     34\n",
              "1366325  2001  Arya      F     36\n",
              "1395746  2002  Arya      F     54\n",
              "1425875  2003  Arya      F     71\n",
              "1456336  2004  Arya      F    120\n",
              "1488508  2005  Arya      F    113\n",
              "1520740  2006  Arya      F    159\n",
              "1554652  2007  Arya      F    200\n",
              "1589605  2008  Arya      F    205\n",
              "1624535  2009  Arya      F    237\n",
              "1659115  2010  Arya      F    273\n",
              "1692969  2011  Arya      F    387\n",
              "1726583  2012  Arya      F    759\n",
              "1760205  2013  Arya      F   1138\n",
              "1793439  2014  Arya      F   1556\n",
              "1826689  2015  Arya      F   1644\n",
              "1859796  2016  Arya      F   1897\n",
              "1892790  2017  Arya      F   2166\n",
              "1925403  2018  Arya      F   2551\n",
              "1957538  2019  Arya      F   3043"
            ]
          },
          "metadata": {
            "tags": []
          },
          "execution_count": 7
        }
      ]
    },
    {
      "cell_type": "code",
      "metadata": {
        "colab": {
          "base_uri": "https://localhost:8080/",
          "height": 138
        },
        "id": "2iiW-LAIArU-",
        "outputId": "c74f9c7a-91d5-4c7e-c9f4-0d9840c2b916"
      },
      "source": [
        "aryaF=aryaF[aryaF.year>=1996]\n",
        "aryaF.head(3)"
      ],
      "execution_count": 8,
      "outputs": [
        {
          "output_type": "execute_result",
          "data": {
            "text/html": [
              "<div>\n",
              "<style scoped>\n",
              "    .dataframe tbody tr th:only-of-type {\n",
              "        vertical-align: middle;\n",
              "    }\n",
              "\n",
              "    .dataframe tbody tr th {\n",
              "        vertical-align: top;\n",
              "    }\n",
              "\n",
              "    .dataframe thead th {\n",
              "        text-align: right;\n",
              "    }\n",
              "</style>\n",
              "<table border=\"1\" class=\"dataframe\">\n",
              "  <thead>\n",
              "    <tr style=\"text-align: right;\">\n",
              "      <th></th>\n",
              "      <th>year</th>\n",
              "      <th>name</th>\n",
              "      <th>gender</th>\n",
              "      <th>count</th>\n",
              "    </tr>\n",
              "  </thead>\n",
              "  <tbody>\n",
              "    <tr>\n",
              "      <th>1230690</th>\n",
              "      <td>1996</td>\n",
              "      <td>Arya</td>\n",
              "      <td>F</td>\n",
              "      <td>11</td>\n",
              "    </tr>\n",
              "    <tr>\n",
              "      <th>1256370</th>\n",
              "      <td>1997</td>\n",
              "      <td>Arya</td>\n",
              "      <td>F</td>\n",
              "      <td>13</td>\n",
              "    </tr>\n",
              "    <tr>\n",
              "      <th>1280833</th>\n",
              "      <td>1998</td>\n",
              "      <td>Arya</td>\n",
              "      <td>F</td>\n",
              "      <td>25</td>\n",
              "    </tr>\n",
              "  </tbody>\n",
              "</table>\n",
              "</div>"
            ],
            "text/plain": [
              "         year  name gender  count\n",
              "1230690  1996  Arya      F     11\n",
              "1256370  1997  Arya      F     13\n",
              "1280833  1998  Arya      F     25"
            ]
          },
          "metadata": {
            "tags": []
          },
          "execution_count": 8
        }
      ]
    },
    {
      "cell_type": "code",
      "metadata": {
        "id": "dicCPu5fAD-l"
      },
      "source": [
        "Jaclyn=df[(df.name==\"Jaclyn\")&(df.gender==\"F\")]\n",
        "Kristie=df[(df.name==\"Kristie\")&(df.gender==\"F\")]\n",
        "Kaley=df[(df.name==\"Kaley\")&(df.gender==\"F\")]\n",
        "Jodi=df[(df.name==\"Jodi\")&(df.gender==\"F\")]\n",
        "\n",
        "Jaclyn=Jaclyn[Jaclyn.year>=1996]\n",
        "Kristie=Kristie[Kristie.year>=1996]\n",
        "Kaley=Kaley[Kaley.year>=1996]\n",
        "Jodi=Jodi[Jodi.year>=1996]"
      ],
      "execution_count": 9,
      "outputs": []
    },
    {
      "cell_type": "code",
      "metadata": {
        "colab": {
          "base_uri": "https://localhost:8080/"
        },
        "id": "vXWygAyf6jXB",
        "outputId": "19cd67b5-0d12-4dc7-c93e-dd16bb0caa8a"
      },
      "source": [
        "len(aryaF[\"year\"])"
      ],
      "execution_count": 10,
      "outputs": [
        {
          "output_type": "execute_result",
          "data": {
            "text/plain": [
              "24"
            ]
          },
          "metadata": {
            "tags": []
          },
          "execution_count": 10
        }
      ]
    },
    {
      "cell_type": "code",
      "metadata": {
        "colab": {
          "base_uri": "https://localhost:8080/"
        },
        "id": "JkYRcRNJ4Ycc",
        "outputId": "e8a186db-179f-4976-cdc5-74cd46c2c693"
      },
      "source": [
        "aryaF.loc[:,\"year\"]=[str(aryaF[\"year\"].values[i]) + '-01-01' for i in range(0,len(aryaF[\"year\"]))]\n"
      ],
      "execution_count": 12,
      "outputs": [
        {
          "output_type": "stream",
          "text": [
            "/usr/local/lib/python3.6/dist-packages/pandas/core/indexing.py:1743: SettingWithCopyWarning: \n",
            "A value is trying to be set on a copy of a slice from a DataFrame.\n",
            "Try using .loc[row_indexer,col_indexer] = value instead\n",
            "\n",
            "See the caveats in the documentation: https://pandas.pydata.org/pandas-docs/stable/user_guide/indexing.html#returning-a-view-versus-a-copy\n",
            "  isetter(ilocs[0], value)\n"
          ],
          "name": "stderr"
        }
      ]
    },
    {
      "cell_type": "code",
      "metadata": {
        "colab": {
          "base_uri": "https://localhost:8080/",
          "height": 108
        },
        "id": "u_igorssEY0z",
        "outputId": "9f556973-ca14-407c-d591-451e0fafc3be"
      },
      "source": [
        "aryaF.head(2)"
      ],
      "execution_count": 13,
      "outputs": [
        {
          "output_type": "execute_result",
          "data": {
            "text/html": [
              "<div>\n",
              "<style scoped>\n",
              "    .dataframe tbody tr th:only-of-type {\n",
              "        vertical-align: middle;\n",
              "    }\n",
              "\n",
              "    .dataframe tbody tr th {\n",
              "        vertical-align: top;\n",
              "    }\n",
              "\n",
              "    .dataframe thead th {\n",
              "        text-align: right;\n",
              "    }\n",
              "</style>\n",
              "<table border=\"1\" class=\"dataframe\">\n",
              "  <thead>\n",
              "    <tr style=\"text-align: right;\">\n",
              "      <th></th>\n",
              "      <th>year</th>\n",
              "      <th>name</th>\n",
              "      <th>gender</th>\n",
              "      <th>count</th>\n",
              "    </tr>\n",
              "  </thead>\n",
              "  <tbody>\n",
              "    <tr>\n",
              "      <th>1230690</th>\n",
              "      <td>1996-01-01</td>\n",
              "      <td>Arya</td>\n",
              "      <td>F</td>\n",
              "      <td>11</td>\n",
              "    </tr>\n",
              "    <tr>\n",
              "      <th>1256370</th>\n",
              "      <td>1997-01-01</td>\n",
              "      <td>Arya</td>\n",
              "      <td>F</td>\n",
              "      <td>13</td>\n",
              "    </tr>\n",
              "  </tbody>\n",
              "</table>\n",
              "</div>"
            ],
            "text/plain": [
              "               year  name gender  count\n",
              "1230690  1996-01-01  Arya      F     11\n",
              "1256370  1997-01-01  Arya      F     13"
            ]
          },
          "metadata": {
            "tags": []
          },
          "execution_count": 13
        }
      ]
    },
    {
      "cell_type": "code",
      "metadata": {
        "colab": {
          "base_uri": "https://localhost:8080/",
          "height": 798
        },
        "id": "At3db50Q0izi",
        "outputId": "ebe1997e-509a-4ab1-b51b-2d3329a49b1b"
      },
      "source": [
        "data=pd.DataFrame(aryaF[\"count\"].values, columns = ['Arya'],index=pd.to_datetime(aryaF.year,format='%Y-%m-%d'))\n",
        "data"
      ],
      "execution_count": 14,
      "outputs": [
        {
          "output_type": "execute_result",
          "data": {
            "text/html": [
              "<div>\n",
              "<style scoped>\n",
              "    .dataframe tbody tr th:only-of-type {\n",
              "        vertical-align: middle;\n",
              "    }\n",
              "\n",
              "    .dataframe tbody tr th {\n",
              "        vertical-align: top;\n",
              "    }\n",
              "\n",
              "    .dataframe thead th {\n",
              "        text-align: right;\n",
              "    }\n",
              "</style>\n",
              "<table border=\"1\" class=\"dataframe\">\n",
              "  <thead>\n",
              "    <tr style=\"text-align: right;\">\n",
              "      <th></th>\n",
              "      <th>Arya</th>\n",
              "    </tr>\n",
              "    <tr>\n",
              "      <th>year</th>\n",
              "      <th></th>\n",
              "    </tr>\n",
              "  </thead>\n",
              "  <tbody>\n",
              "    <tr>\n",
              "      <th>1996-01-01</th>\n",
              "      <td>11</td>\n",
              "    </tr>\n",
              "    <tr>\n",
              "      <th>1997-01-01</th>\n",
              "      <td>13</td>\n",
              "    </tr>\n",
              "    <tr>\n",
              "      <th>1998-01-01</th>\n",
              "      <td>25</td>\n",
              "    </tr>\n",
              "    <tr>\n",
              "      <th>1999-01-01</th>\n",
              "      <td>16</td>\n",
              "    </tr>\n",
              "    <tr>\n",
              "      <th>2000-01-01</th>\n",
              "      <td>34</td>\n",
              "    </tr>\n",
              "    <tr>\n",
              "      <th>2001-01-01</th>\n",
              "      <td>36</td>\n",
              "    </tr>\n",
              "    <tr>\n",
              "      <th>2002-01-01</th>\n",
              "      <td>54</td>\n",
              "    </tr>\n",
              "    <tr>\n",
              "      <th>2003-01-01</th>\n",
              "      <td>71</td>\n",
              "    </tr>\n",
              "    <tr>\n",
              "      <th>2004-01-01</th>\n",
              "      <td>120</td>\n",
              "    </tr>\n",
              "    <tr>\n",
              "      <th>2005-01-01</th>\n",
              "      <td>113</td>\n",
              "    </tr>\n",
              "    <tr>\n",
              "      <th>2006-01-01</th>\n",
              "      <td>159</td>\n",
              "    </tr>\n",
              "    <tr>\n",
              "      <th>2007-01-01</th>\n",
              "      <td>200</td>\n",
              "    </tr>\n",
              "    <tr>\n",
              "      <th>2008-01-01</th>\n",
              "      <td>205</td>\n",
              "    </tr>\n",
              "    <tr>\n",
              "      <th>2009-01-01</th>\n",
              "      <td>237</td>\n",
              "    </tr>\n",
              "    <tr>\n",
              "      <th>2010-01-01</th>\n",
              "      <td>273</td>\n",
              "    </tr>\n",
              "    <tr>\n",
              "      <th>2011-01-01</th>\n",
              "      <td>387</td>\n",
              "    </tr>\n",
              "    <tr>\n",
              "      <th>2012-01-01</th>\n",
              "      <td>759</td>\n",
              "    </tr>\n",
              "    <tr>\n",
              "      <th>2013-01-01</th>\n",
              "      <td>1138</td>\n",
              "    </tr>\n",
              "    <tr>\n",
              "      <th>2014-01-01</th>\n",
              "      <td>1556</td>\n",
              "    </tr>\n",
              "    <tr>\n",
              "      <th>2015-01-01</th>\n",
              "      <td>1644</td>\n",
              "    </tr>\n",
              "    <tr>\n",
              "      <th>2016-01-01</th>\n",
              "      <td>1897</td>\n",
              "    </tr>\n",
              "    <tr>\n",
              "      <th>2017-01-01</th>\n",
              "      <td>2166</td>\n",
              "    </tr>\n",
              "    <tr>\n",
              "      <th>2018-01-01</th>\n",
              "      <td>2551</td>\n",
              "    </tr>\n",
              "    <tr>\n",
              "      <th>2019-01-01</th>\n",
              "      <td>3043</td>\n",
              "    </tr>\n",
              "  </tbody>\n",
              "</table>\n",
              "</div>"
            ],
            "text/plain": [
              "            Arya\n",
              "year            \n",
              "1996-01-01    11\n",
              "1997-01-01    13\n",
              "1998-01-01    25\n",
              "1999-01-01    16\n",
              "2000-01-01    34\n",
              "2001-01-01    36\n",
              "2002-01-01    54\n",
              "2003-01-01    71\n",
              "2004-01-01   120\n",
              "2005-01-01   113\n",
              "2006-01-01   159\n",
              "2007-01-01   200\n",
              "2008-01-01   205\n",
              "2009-01-01   237\n",
              "2010-01-01   273\n",
              "2011-01-01   387\n",
              "2012-01-01   759\n",
              "2013-01-01  1138\n",
              "2014-01-01  1556\n",
              "2015-01-01  1644\n",
              "2016-01-01  1897\n",
              "2017-01-01  2166\n",
              "2018-01-01  2551\n",
              "2019-01-01  3043"
            ]
          },
          "metadata": {
            "tags": []
          },
          "execution_count": 14
        }
      ]
    },
    {
      "cell_type": "code",
      "metadata": {
        "id": "Jsr_I7iZ8Ggv"
      },
      "source": [
        "data['Jaclyn']=Jaclyn[\"count\"].values\n",
        "data['Kristie']=Kristie[\"count\"].values\n",
        "data['Kaley']=Kaley[\"count\"].values\n",
        "data['Jodi']=Jodi[\"count\"].values"
      ],
      "execution_count": 15,
      "outputs": []
    },
    {
      "cell_type": "code",
      "metadata": {
        "colab": {
          "base_uri": "https://localhost:8080/",
          "height": 138
        },
        "id": "5K_7YV33Bg1N",
        "outputId": "780535d3-5dba-41fb-aee3-91ca52a77872"
      },
      "source": [
        "data.head(2)"
      ],
      "execution_count": 16,
      "outputs": [
        {
          "output_type": "execute_result",
          "data": {
            "text/html": [
              "<div>\n",
              "<style scoped>\n",
              "    .dataframe tbody tr th:only-of-type {\n",
              "        vertical-align: middle;\n",
              "    }\n",
              "\n",
              "    .dataframe tbody tr th {\n",
              "        vertical-align: top;\n",
              "    }\n",
              "\n",
              "    .dataframe thead th {\n",
              "        text-align: right;\n",
              "    }\n",
              "</style>\n",
              "<table border=\"1\" class=\"dataframe\">\n",
              "  <thead>\n",
              "    <tr style=\"text-align: right;\">\n",
              "      <th></th>\n",
              "      <th>Arya</th>\n",
              "      <th>Jaclyn</th>\n",
              "      <th>Kristie</th>\n",
              "      <th>Kaley</th>\n",
              "      <th>Jodi</th>\n",
              "    </tr>\n",
              "    <tr>\n",
              "      <th>year</th>\n",
              "      <th></th>\n",
              "      <th></th>\n",
              "      <th></th>\n",
              "      <th></th>\n",
              "      <th></th>\n",
              "    </tr>\n",
              "  </thead>\n",
              "  <tbody>\n",
              "    <tr>\n",
              "      <th>1996-01-01</th>\n",
              "      <td>11</td>\n",
              "      <td>939</td>\n",
              "      <td>169</td>\n",
              "      <td>502</td>\n",
              "      <td>282</td>\n",
              "    </tr>\n",
              "    <tr>\n",
              "      <th>1997-01-01</th>\n",
              "      <td>13</td>\n",
              "      <td>772</td>\n",
              "      <td>184</td>\n",
              "      <td>508</td>\n",
              "      <td>258</td>\n",
              "    </tr>\n",
              "  </tbody>\n",
              "</table>\n",
              "</div>"
            ],
            "text/plain": [
              "            Arya  Jaclyn  Kristie  Kaley  Jodi\n",
              "year                                          \n",
              "1996-01-01    11     939      169    502   282\n",
              "1997-01-01    13     772      184    508   258"
            ]
          },
          "metadata": {
            "tags": []
          },
          "execution_count": 16
        }
      ]
    },
    {
      "cell_type": "code",
      "metadata": {
        "id": "kGRGHf1wzpFJ"
      },
      "source": [
        "pre_period = ['19960101','20120101']\n",
        "post_period = ['20130101','20190101']"
      ],
      "execution_count": 17,
      "outputs": []
    },
    {
      "cell_type": "code",
      "metadata": {
        "colab": {
          "base_uri": "https://localhost:8080/",
          "height": 1000
        },
        "id": "K1M9vnOpzfTx",
        "outputId": "7fe84968-d499-427b-f6ae-3c89cf3e40ad"
      },
      "source": [
        "ci = CausalImpact(data, pre_period, post_period)\n",
        "print(ci.summary())\n",
        "print(ci.summary(output='report'))\n",
        "ci.plot()"
      ],
      "execution_count": 18,
      "outputs": [
        {
          "output_type": "stream",
          "text": [
            "/usr/local/lib/python3.6/dist-packages/statsmodels/tsa/base/tsa_model.py:527: ValueWarning: No frequency information was provided, so inferred frequency AS-JAN will be used.\n",
            "  % freq, ValueWarning)\n",
            "/usr/local/lib/python3.6/dist-packages/statsmodels/tsa/base/tsa_model.py:527: ValueWarning: No frequency information was provided, so inferred frequency AS-JAN will be used.\n",
            "  % freq, ValueWarning)\n"
          ],
          "name": "stderr"
        },
        {
          "output_type": "stream",
          "text": [
            "Posterior Inference {Causal Impact}\n",
            "                          Average            Cumulative\n",
            "Actual                    1999.29            13995.0\n",
            "Prediction (s.d.)         452.78 (49.5)      3169.46 (346.53)\n",
            "95% CI                    [352.66, 546.72]   [2468.65, 3827.01]\n",
            "\n",
            "Absolute effect (s.d.)    1546.51 (49.5)     10825.54 (346.53)\n",
            "95% CI                    [1452.57, 1646.62] [10167.99, 11526.35]\n",
            "\n",
            "Relative effect (s.d.)    341.56% (10.93%)   341.56% (10.93%)\n",
            "95% CI                    [320.81%, 363.67%] [320.81%, 363.67%]\n",
            "\n",
            "Posterior tail-area probability p: 0.0\n",
            "Posterior prob. of a causal effect: 100.0%\n",
            "\n",
            "For more details run the command: print(impact.summary('report'))\n",
            "Analysis report {CausalImpact}\n",
            "\n",
            "\n",
            "During the post-intervention period, the response variable had\n",
            "an average value of approx. 1999.29. By contrast, in the absence of an\n",
            "intervention, we would have expected an average response of 452.78.\n",
            "The 95% interval of this counterfactual prediction is [352.66, 546.72].\n",
            "Subtracting this prediction from the observed response yields\n",
            "an estimate of the causal effect the intervention had on the\n",
            "response variable. This effect is 1546.51 with a 95% interval of\n",
            "[1452.57, 1646.62]. For a discussion of the significance of this effect,\n",
            "see below.\n",
            "\n",
            "\n",
            "Summing up the individual data points during the post-intervention\n",
            "period (which can only sometimes be meaningfully interpreted), the\n",
            "response variable had an overall value of 13995.0.\n",
            "By contrast, had the intervention not taken place, we would have expected\n",
            "a sum of 3169.46. The 95% interval of this prediction is [2468.65, 3827.01].\n",
            "\n",
            "\n",
            "The above results are given in terms of absolute numbers. In relative\n",
            "terms, the response variable showed an increase of +341.56%. The 95%\n",
            "interval of this percentage is [320.81%, 363.67%].\n",
            "\n",
            "\n",
            "This means that the positive effect observed during the intervention\n",
            "period is statistically significant and unlikely to be due to random\n",
            "fluctuations. It should be noted, however, that the question of whether\n",
            "this increase also bears substantive significance can only be answered\n",
            "by comparing the absolute effect (1546.51) to the original goal\n",
            "of the underlying intervention.\n",
            "\n",
            "\n",
            "The probability of obtaining this effect by chance is very small\n",
            "(Bayesian one-sided tail-area probability p = 0.0).\n",
            "This means the causal effect can be considered statistically\n",
            "significant.\n"
          ],
          "name": "stdout"
        },
        {
          "output_type": "display_data",
          "data": {
            "image/png": "[encoded data removed]",
            "text/plain": [
              "<Figure size 1080x864 with 3 Axes>"
            ]
          },
          "metadata": {
            "tags": [],
            "needs_background": "light"
          }
        }
      ]
    }
  ]
}